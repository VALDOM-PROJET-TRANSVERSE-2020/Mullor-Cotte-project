{
  "nbformat": 4,
  "nbformat_minor": 0,
  "metadata": {
    "colab": {
      "name": "notebook_tf_transform.ipynb",
      "provenance": [],
      "toc_visible": true
    },
    "kernelspec": {
      "display_name": "Python 3",
      "language": "python",
      "name": "python3"
    },
    "language_info": {
      "codemirror_mode": {
        "name": "ipython",
        "version": 3
      },
      "file_extension": ".py",
      "mimetype": "text/x-python",
      "name": "python",
      "nbconvert_exporter": "python",
      "pygments_lexer": "ipython3",
      "version": "3.6.6"
    },
    "accelerator": "GPU"
  },
  "cells": [
    {
      "cell_type": "markdown",
      "metadata": {
        "id": "tpmc-39De3Fm"
      },
      "source": [
        "# WHY FAKE NEWS IS A PROBLEM?\n",
        "**Fake news refers to misinformation, disinformation or mal-information which is spread through word of mouth and traditional media and more recently through digital forms of communication such as edited videos, memes, unverified advertisements and social media propagated rumours.Fake news spread through social media has become a serious problem, with the potential of it resulting in mob violence, suicides etc as a result of misinformation circulated on social media.**\n",
        "![image.png](attachment:image.png)"
      ]
    },
    {
      "cell_type": "markdown",
      "metadata": {
        "id": "TanaiRJxe3Fq"
      },
      "source": [
        "# BRIEF DESCRIPTION OF DATASET\n",
        "**This dataset consists of about 40000 articles consisting of fake as well as real news. Our aim is train our model so that it can correctly predict whether a given piece of news is real or fake.The fake and real news data is given in two separate datasets with each dataset consisting around 20000 articles each.**"
      ]
    },
    {
      "cell_type": "code",
      "metadata": {
        "id": "JkyuGUx_e3Fs"
      },
      "source": [
        "# This Python 3 environment comes with many helpful analytics libraries installed\n",
        "# It is defined by the kaggle/python docker image: https://github.com/kaggle/docker-python\n",
        "# For example, here's several helpful packages to load in \n",
        "\n",
        "import numpy as np # linear algebra\n",
        "import pandas as pd # data processing, CSV file I/O (e.g. pd.read_csv)"
      ],
      "execution_count": 1,
      "outputs": []
    },
    {
      "cell_type": "code",
      "metadata": {
        "colab": {
          "base_uri": "https://localhost:8080/"
        },
        "id": "RWSJpsyKqHjH",
        "outputId": "38619a14-b324-4055-c800-781b3b1d005b"
      },
      "source": [
        "from google.colab import drive\n",
        "drive.mount('/content/drive')"
      ],
      "execution_count": 2,
      "outputs": [
        {
          "output_type": "stream",
          "text": [
            "Mounted at /content/drive\n"
          ],
          "name": "stdout"
        }
      ]
    },
    {
      "cell_type": "code",
      "metadata": {
        "colab": {
          "base_uri": "https://localhost:8080/"
        },
        "id": "hLQM2IdHfV5q",
        "outputId": "60a03994-d619-4790-f766-461ad0be8d40"
      },
      "source": [
        "!ls\n",
        "%cd /content/drive/My Drive/Colab Notebooks/projet_sopra/input/fake-and-real-news-dataset"
      ],
      "execution_count": 3,
      "outputs": [
        {
          "output_type": "stream",
          "text": [
            "drive  sample_data\n",
            "/content/drive/My Drive/Colab Notebooks/projet_sopra/input/fake-and-real-news-dataset\n"
          ],
          "name": "stdout"
        }
      ]
    },
    {
      "cell_type": "code",
      "metadata": {
        "colab": {
          "base_uri": "https://localhost:8080/"
        },
        "id": "TtFsswgHfvfG",
        "outputId": "5cfde9b9-e0a2-4f8b-8c66-7c38b14f7203"
      },
      "source": [
        "%cd fake-and-real-news-dataset/"
      ],
      "execution_count": 4,
      "outputs": [
        {
          "output_type": "stream",
          "text": [
            "[Errno 2] No such file or directory: 'fake-and-real-news-dataset/'\n",
            "/content/drive/My Drive/Colab Notebooks/projet_sopra/input/fake-and-real-news-dataset\n"
          ],
          "name": "stdout"
        }
      ]
    },
    {
      "cell_type": "markdown",
      "metadata": {
        "id": "ZKA79zTZe3F6"
      },
      "source": [
        "# LOADING THE NECESSARY LIBRARIES"
      ]
    },
    {
      "cell_type": "code",
      "metadata": {
        "id": "iCdX3tI3e3F8"
      },
      "source": [
        "import numpy as np\n",
        "import pandas as pd\n",
        "import seaborn as sns\n",
        "import matplotlib.pyplot as plt\n",
        "import nltk\n",
        "from sklearn.preprocessing import LabelBinarizer\n",
        "from nltk.corpus import stopwords\n",
        "from nltk.stem.porter import PorterStemmer\n",
        "from wordcloud import WordCloud,STOPWORDS\n",
        "from nltk.stem import WordNetLemmatizer\n",
        "from nltk.tokenize import word_tokenize,sent_tokenize\n",
        "from bs4 import BeautifulSoup\n",
        "import re,string,unicodedata\n",
        "from keras.preprocessing import text, sequence\n",
        "from sklearn.metrics import classification_report,confusion_matrix,accuracy_score\n",
        "from sklearn.model_selection import train_test_split\n",
        "from string import punctuation\n",
        "from nltk import pos_tag\n",
        "from nltk.corpus import wordnet\n",
        "import keras\n",
        "from keras.models import Sequential\n",
        "from keras.layers import Dense,Embedding,LSTM,Dropout\n",
        "from keras.callbacks import ReduceLROnPlateau\n",
        "import tensorflow as tf"
      ],
      "execution_count": 5,
      "outputs": []
    },
    {
      "cell_type": "markdown",
      "metadata": {
        "id": "OWqyQbXWe3GF"
      },
      "source": [
        "# IMPORTING THE DATASET"
      ]
    },
    {
      "cell_type": "markdown",
      "metadata": {
        "id": "vIMQql4Ee3GR"
      },
      "source": [
        "# DATA VISUALIZATION AND PREPROCESSING"
      ]
    },
    {
      "cell_type": "markdown",
      "metadata": {
        "id": "MrITcogj7mxi"
      },
      "source": [
        "**Import data in tf dataset**"
      ]
    },
    {
      "cell_type": "code",
      "metadata": {
        "id": "Am-njqT-NPTF"
      },
      "source": [
        "true_dataset = tf.data.experimental.CsvDataset(filenames = ['True.csv'], record_defaults = [tf.string, tf.string], select_cols=[0,1], header=True)\r\n",
        "false_dataset = tf.data.experimental.CsvDataset(filenames = ['Fake.csv'], record_defaults = [tf.string, tf.string], select_cols=[0,1], header=True)"
      ],
      "execution_count": 6,
      "outputs": []
    },
    {
      "cell_type": "code",
      "metadata": {
        "colab": {
          "base_uri": "https://localhost:8080/"
        },
        "id": "KbiFBPu0sgL3",
        "outputId": "ba2b3c14-4df4-49d9-c0b1-449f5ca595c4"
      },
      "source": [
        "for idx, row in enumerate(true_dataset):\r\n",
        "    print (row)\r\n",
        "    if idx > 3:\r\n",
        "        break"
      ],
      "execution_count": 7,
      "outputs": [
        {
          "output_type": "stream",
          "text": [
            "(<tf.Tensor: shape=(), dtype=string, numpy=b'As U.S. budget fight looms, Republicans flip their fiscal script'>, <tf.Tensor: shape=(), dtype=string, numpy=b'WASHINGTON (Reuters) - The head of a conservative Republican faction in the U.S. Congress, who voted this month for a huge expansion of the national debt to pay for tax cuts, called himself a \\xe2\\x80\\x9cfiscal conservative\\xe2\\x80\\x9d on Sunday and urged budget restraint in 2018. In keeping with a sharp pivot under way among Republicans, U.S. Representative Mark Meadows, speaking on CBS\\xe2\\x80\\x99 \\xe2\\x80\\x9cFace the Nation,\\xe2\\x80\\x9d drew a hard line on federal spending, which lawmakers are bracing to do battle over in January. When they return from the holidays on Wednesday, lawmakers will begin trying to pass a federal budget in a fight likely to be linked to other issues, such as immigration policy, even as the November congressional election campaigns approach in which Republicans will seek to keep control of Congress. President Donald Trump and his Republicans want a big budget increase in military spending, while Democrats also want proportional increases for non-defense \\xe2\\x80\\x9cdiscretionary\\xe2\\x80\\x9d spending on programs that support education, scientific research, infrastructure, public health and environmental protection. \\xe2\\x80\\x9cThe (Trump) administration has already been willing to say: \\xe2\\x80\\x98We\\xe2\\x80\\x99re going to increase non-defense discretionary spending ... by about 7 percent,\\xe2\\x80\\x99\\xe2\\x80\\x9d Meadows, chairman of the small but influential House Freedom Caucus, said on the program. \\xe2\\x80\\x9cNow, Democrats are saying that\\xe2\\x80\\x99s not enough, we need to give the government a pay raise of 10 to 11 percent. For a fiscal conservative, I don\\xe2\\x80\\x99t see where the rationale is. ... Eventually you run out of other people\\xe2\\x80\\x99s money,\\xe2\\x80\\x9d he said. Meadows was among Republicans who voted in late December for their party\\xe2\\x80\\x99s debt-financed tax overhaul, which is expected to balloon the federal budget deficit and add about $1.5 trillion over 10 years to the $20 trillion national debt. \\xe2\\x80\\x9cIt\\xe2\\x80\\x99s interesting to hear Mark talk about fiscal responsibility,\\xe2\\x80\\x9d Democratic U.S. Representative Joseph Crowley said on CBS. Crowley said the Republican tax bill would require the  United States to borrow $1.5 trillion, to be paid off by future generations, to finance tax cuts for corporations and the rich. \\xe2\\x80\\x9cThis is one of the least ... fiscally responsible bills we\\xe2\\x80\\x99ve ever seen passed in the history of the House of Representatives. I think we\\xe2\\x80\\x99re going to be paying for this for many, many years to come,\\xe2\\x80\\x9d Crowley said. Republicans insist the tax package, the biggest U.S. tax overhaul in more than 30 years,  will boost the economy and job growth. House Speaker Paul Ryan, who also supported the tax bill, recently went further than Meadows, making clear in a radio interview that welfare or \\xe2\\x80\\x9centitlement reform,\\xe2\\x80\\x9d as the party often calls it, would be a top Republican priority in 2018. In Republican parlance, \\xe2\\x80\\x9centitlement\\xe2\\x80\\x9d programs mean food stamps, housing assistance, Medicare and Medicaid health insurance for the elderly, poor and disabled, as well as other programs created by Washington to assist the needy. Democrats seized on Ryan\\xe2\\x80\\x99s early December remarks, saying they showed Republicans would try to pay for their tax overhaul by seeking spending cuts for social programs. But the goals of House Republicans may have to take a back seat to the Senate, where the votes of some Democrats will be needed to approve a budget and prevent a government shutdown. Democrats will use their leverage in the Senate, which Republicans narrowly control, to defend both discretionary non-defense programs and social spending, while tackling the issue of the \\xe2\\x80\\x9cDreamers,\\xe2\\x80\\x9d people brought illegally to the country as children. Trump in September put a March 2018 expiration date on the Deferred Action for Childhood Arrivals, or DACA, program, which protects the young immigrants from deportation and provides them with work permits. The president has said in recent Twitter messages he wants funding for his proposed Mexican border wall and other immigration law changes in exchange for agreeing to help the Dreamers. Representative Debbie Dingell told CBS she did not favor linking that issue to other policy objectives, such as wall funding. \\xe2\\x80\\x9cWe need to do DACA clean,\\xe2\\x80\\x9d she said.  On Wednesday, Trump aides will meet with congressional leaders to discuss those issues. That will be followed by a weekend of strategy sessions for Trump and Republican leaders on Jan. 6 and 7, the White House said. Trump was also scheduled to meet on Sunday with Florida Republican Governor Rick Scott, who wants more emergency aid. The House has passed an $81 billion aid package after hurricanes in Florida, Texas and Puerto Rico, and wildfires in California. The package far exceeded the $44 billion requested by the Trump administration. The Senate has not yet voted on the aid. '>)\n",
            "(<tf.Tensor: shape=(), dtype=string, numpy=b'U.S. military to accept transgender recruits on Monday: Pentagon'>, <tf.Tensor: shape=(), dtype=string, numpy=b'WASHINGTON (Reuters) - Transgender people will be allowed for the first time to enlist in the U.S. military starting on Monday as ordered by federal courts, the Pentagon said on Friday, after President Donald Trump\\xe2\\x80\\x99s administration decided not to appeal rulings that blocked his transgender ban. Two federal appeals courts, one in Washington and one in Virginia, last week rejected the administration\\xe2\\x80\\x99s request to put on hold orders by lower court judges requiring the military to begin accepting transgender recruits on Jan. 1. A Justice Department official said the administration will not challenge those rulings. \\xe2\\x80\\x9cThe Department of Defense has announced that it will be releasing an independent study of these issues in the coming weeks. So rather than litigate this interim appeal before that occurs, the administration has decided to wait for DOD\\xe2\\x80\\x99s study and will continue to defend the president\\xe2\\x80\\x99s lawful authority in District Court in the meantime,\\xe2\\x80\\x9d the official said, speaking on condition of anonymity. In September, the Pentagon said it had created a panel of senior officials to study how to implement a directive by Trump to prohibit transgender individuals from serving. The Defense Department has until Feb. 21 to submit a plan to Trump. Lawyers representing currently-serving transgender service members and aspiring recruits said they had expected the administration to appeal the rulings to the conservative-majority Supreme Court, but were hoping that would not happen. Pentagon spokeswoman Heather Babb said in a statement: \\xe2\\x80\\x9cAs mandated by court order, the Department of Defense is prepared to begin accessing transgender applicants for military service Jan. 1. All applicants must meet all accession standards.\\xe2\\x80\\x9d Jennifer Levi, a lawyer with gay, lesbian and transgender advocacy group GLAD, called the decision not to appeal \\xe2\\x80\\x9cgreat news.\\xe2\\x80\\x9d \\xe2\\x80\\x9cI\\xe2\\x80\\x99m hoping it means the government has come to see that there is no way to justify a ban and that it\\xe2\\x80\\x99s not good for the military or our country,\\xe2\\x80\\x9d Levi said. Both GLAD and the American Civil Liberties Union represent plaintiffs in the lawsuits filed against the administration. In a move that appealed to his hard-line conservative supporters, Trump announced in July that he would prohibit transgender people from serving in the military, reversing Democratic President Barack Obama\\xe2\\x80\\x99s policy of accepting them. Trump said on Twitter at the time that the military \\xe2\\x80\\x9ccannot be burdened with the tremendous medical costs and disruption that transgender in the military would entail.\\xe2\\x80\\x9d Four federal judges - in Baltimore, Washington, D.C., Seattle and Riverside, California - have issued rulings blocking Trump\\xe2\\x80\\x99s ban while legal challenges to the Republican president\\xe2\\x80\\x99s policy proceed. The judges said the ban would likely violate the right under the U.S. Constitution to equal protection under the law. The Pentagon on Dec. 8 issued guidelines to recruitment personnel in order to enlist transgender applicants by Jan. 1. The memo outlined medical requirements and specified how the applicants\\xe2\\x80\\x99 sex would be identified and even which undergarments they would wear. The Trump administration previously said in legal papers that the armed forces were not prepared to train thousands of personnel on the medical standards needed to process transgender applicants and might have to accept \\xe2\\x80\\x9csome individuals who are not medically fit for service.\\xe2\\x80\\x9d The Obama administration had set a deadline of July 1, 2017, to begin accepting transgender recruits. But Trump\\xe2\\x80\\x99s defense secretary, James Mattis, postponed that date to Jan. 1, 2018, which the president\\xe2\\x80\\x99s ban then put off indefinitely. Trump has taken other steps aimed at rolling back transgender rights. In October, his administration said a federal law banning gender-based workplace discrimination does not protect transgender employees, reversing another Obama-era position. In February, Trump rescinded guidance issued by the Obama administration saying that public schools should allow transgender students to use the restroom that corresponds to their gender identity. '>)\n",
            "(<tf.Tensor: shape=(), dtype=string, numpy=b\"Senior U.S. Republican senator: 'Let Mr. Mueller do his job'\">, <tf.Tensor: shape=(), dtype=string, numpy=b'WASHINGTON (Reuters) - The special counsel investigation of links between Russia and President Trump\\xe2\\x80\\x99s 2016 election campaign should continue without interference in 2018, despite calls from some Trump administration allies and Republican lawmakers to shut it down, a prominent Republican senator said on Sunday. Lindsey Graham, who serves on the Senate armed forces and judiciary committees, said Department of Justice Special Counsel Robert Mueller needs to carry on with his Russia investigation without political interference. \\xe2\\x80\\x9cThis investigation will go forward. It will be an investigation conducted without political influence,\\xe2\\x80\\x9d Graham said on CBS\\xe2\\x80\\x99s Face the Nation news program. \\xe2\\x80\\x9cAnd we all need to let Mr. Mueller do his job. I think he\\xe2\\x80\\x99s the right guy at the right time.\\xe2\\x80\\x9d  The question of how Russia may have interfered in the election, and how Trump\\xe2\\x80\\x99s campaign may have had links with or co-ordinated any such effort, has loomed over the White House since Trump took office in January. It shows no sign of receding as Trump prepares for his second year in power, despite intensified rhetoric from some Trump allies in recent weeks accusing Mueller\\xe2\\x80\\x99s team of bias against the Republican president. Trump himself seemed to undercut his supporters in an interview last week with the New York Times in which he said he expected Mueller was \\xe2\\x80\\x9cgoing to be fair.\\xe2\\x80\\x9d    Russia\\xe2\\x80\\x99s role in the election and the question of possible links to the Trump campaign are the focus of multiple inquiries in Washington. Three committees of the Senate and the House of Representatives are investigating, as well as Mueller, whose team in May took over an earlier probe launched by the U.S. Federal Bureau of Investigation (FBI). Several members of the Trump campaign and administration have been convicted or indicted in the investigation.  Trump and his allies deny any collusion with Russia during the campaign, and the Kremlin has denied meddling in the election. Graham said he still wants an examination of the FBI\\xe2\\x80\\x99s use of a dossier on links between Trump and Russia that was compiled by a former British spy, Christopher Steele, which prompted Trump allies and some Republicans to question Mueller\\xe2\\x80\\x99s inquiry.   On Saturday, the New York Times reported that it was not that dossier that triggered an early FBI probe, but a tip from former Trump campaign foreign policy adviser George Papadopoulos to an Australian diplomat that Russia had damaging information about former Trump rival Hillary Clinton.  \\xe2\\x80\\x9cI want somebody to look at the way the Department of Justice used this dossier. It bothers me greatly the way they used it, and I want somebody to look at it,\\xe2\\x80\\x9d Graham said. But he said the Russia investigation must continue. \\xe2\\x80\\x9cAs a matter of fact, it would hurt us if we ignored it,\\xe2\\x80\\x9d he said. '>)\n",
            "(<tf.Tensor: shape=(), dtype=string, numpy=b'FBI Russia probe helped by Australian diplomat tip-off: NYT'>, <tf.Tensor: shape=(), dtype=string, numpy=b'WASHINGTON (Reuters) - Trump campaign adviser George Papadopoulos told an Australian diplomat in May 2016 that Russia had political dirt on Democratic presidential candidate Hillary Clinton, the New York Times reported on Saturday. The conversation between Papadopoulos and the diplomat, Alexander Downer, in London was a driving factor behind the FBI\\xe2\\x80\\x99s decision to open a counter-intelligence investigation of Moscow\\xe2\\x80\\x99s contacts with the Trump campaign, the Times reported. Two months after the meeting, Australian officials passed the information that came from Papadopoulos to their American counterparts when leaked Democratic emails began appearing online, according to the newspaper, which cited four current and former U.S. and foreign officials. Besides the information from the Australians, the probe by the Federal Bureau of Investigation was also propelled by intelligence from other friendly governments, including the British and Dutch, the Times said. Papadopoulos, a Chicago-based international energy lawyer, pleaded guilty on Oct. 30 to lying to FBI agents about contacts with people who claimed to have ties to top Russian officials. It was the first criminal charge alleging links between the Trump campaign and Russia. The White House has played down the former aide\\xe2\\x80\\x99s campaign role, saying it was \\xe2\\x80\\x9cextremely limited\\xe2\\x80\\x9d and that any actions he took would have been on his own. The New York Times, however, reported that Papadopoulos helped set up a meeting between then-candidate Donald Trump and Egyptian President Abdel Fattah al-Sisi and edited the outline of Trump\\xe2\\x80\\x99s first major foreign policy speech in April 2016. The federal investigation, which is now being led by Special Counsel Robert Mueller, has hung over Trump\\xe2\\x80\\x99s White House since he took office almost a year ago. Some Trump allies have recently accused Mueller\\xe2\\x80\\x99s team of being biased against the Republican president. Lawyers for Papadopoulos did not immediately respond to requests by Reuters for comment. Mueller\\xe2\\x80\\x99s office declined to comment. Trump\\xe2\\x80\\x99s White House attorney, Ty Cobb, declined to comment on the New York Times report. \\xe2\\x80\\x9cOut of respect for the special counsel and his process, we are not commenting on matters such as this,\\xe2\\x80\\x9d he said in a statement. Mueller has charged four Trump associates, including Papadopoulos, in his investigation. Russia has denied interfering in the U.S. election and Trump has said there was no collusion between his campaign and Moscow. '>)\n",
            "(<tf.Tensor: shape=(), dtype=string, numpy=b\"Trump wants Postal Service to charge 'much more' for Amazon shipments\">, <tf.Tensor: shape=(), dtype=string, numpy=b'SEATTLE/WASHINGTON (Reuters) - President Donald Trump called on the U.S. Postal Service on Friday to charge \\xe2\\x80\\x9cmuch more\\xe2\\x80\\x9d to ship packages for Amazon (AMZN.O), picking another fight with an online retail giant he has criticized in the past.     \\xe2\\x80\\x9cWhy is the United States Post Office, which is losing many billions of dollars a year, while charging Amazon and others so little to deliver their packages, making Amazon richer and the Post Office dumber and poorer? Should be charging MUCH MORE!\\xe2\\x80\\x9d Trump wrote on Twitter.  The president\\xe2\\x80\\x99s tweet drew fresh attention to the fragile finances of the Postal Service at a time when tens of millions of parcels have just been shipped all over the country for the holiday season.  The U.S. Postal Service, which runs at a big loss, is an independent agency within the federal government and does not receive tax dollars for operating expenses, according to its website.  Package delivery has become an increasingly important part of its business as the Internet has led to a sharp decline in the amount of first-class letters. The president does not determine postal rates. They are set by the Postal Regulatory Commission, an independent government agency with commissioners selected by the president from both political parties. That panel raised prices on packages by almost 2 percent in November.  Amazon was founded by Jeff Bezos, who remains the chief executive officer of the retail company and is the richest person in the world, according to Bloomberg News. Bezos also owns The Washington Post, a newspaper Trump has repeatedly railed against in his criticisms of the news media. In tweets over the past year, Trump has said the \\xe2\\x80\\x9cAmazon Washington Post\\xe2\\x80\\x9d fabricated stories. He has said Amazon does not pay sales tax, which is not true, and so hurts other retailers, part of a pattern by the former businessman and reality television host of periodically turning his ire on big American companies since he took office in January. Daniel Ives, a research analyst at GBH Insights, said Trump\\xe2\\x80\\x99s comment could be taken as a warning to the retail giant. However, he said he was not concerned for Amazon. \\xe2\\x80\\x9cWe do not see any price hikes in the future. However, that is a risk that Amazon is clearly aware of and (it) is building out its distribution (system) aggressively,\\xe2\\x80\\x9d he said. Amazon has shown interest in the past in shifting into its own delivery service, including testing drones for deliveries. In 2015, the company spent $11.5 billion on shipping, 46 percent of its total operating expenses that year.  Amazon shares were down 0.86 percent to $1,175.90 by early afternoon. Overall, U.S. stock prices were down slightly on Friday.  Satish Jindel, president of ShipMatrix Inc, which analyzes shipping data, disputed the idea that the Postal Service charges less than United Parcel Service Inc (UPS.N) and FedEx Corp (FDX.N), the other biggest players in the parcel delivery business in the United States. Many customers get lower rates from UPS and FedEx than they would get from the post office for comparable services, he said. The Postal Service delivers about 62 percent of Amazon packages, for about 3.5 to 4 million a day during the current peak year-end holiday shipping season, Jindel said. The Seattle-based company and the post office have an agreement in which mail carriers take Amazon packages on the last leg of their journeys, from post offices to customers\\xe2\\x80\\x99 doorsteps. Amazon\\xe2\\x80\\x99s No. 2 carrier is UPS, at 21 percent, and FedEx is third, with 8 percent or so, according to Jindel. Trump\\xe2\\x80\\x99s comment tapped into a debate over whether Postal Service pricing has kept pace with the rise of e-commerce, which has flooded the mail with small packages.Private companies like UPS have long claimed the current system unfairly undercuts their business. Steve Gaut, a spokesman for UPS, noted that the company values its \\xe2\\x80\\x9cproductive relationship\\xe2\\x80\\x9d with the postal service, but that it has filed with the Postal Regulatory Commission its concerns about the postal service\\xe2\\x80\\x99s methods for covering costs. Representatives for Amazon, the White House, the U.S. Postal Service and FedEx declined comment or were not immediately available for comment on Trump\\xe2\\x80\\x99s tweet. According to its annual report, the Postal Service lost $2.74 billion this year, and its deficit has ballooned to $61.86 billion.  While the Postal Service\\xe2\\x80\\x99s revenue for first class mail, marketing mail and periodicals is flat or declining, revenue from package delivery is up 44 percent since 2014 to $19.5 billion in the fiscal year ended Sept. 30, 2017. But it also lost about $2 billion in revenue when a temporary surcharge expired in April 2016. According to a Government Accountability Office report in February, the service is facing growing personnel expenses, particularly $73.4 billion in unfunded pension and benefits liabilities. The Postal Service has not announced any plans to cut costs. By law, the Postal Service has to set prices for package delivery to cover the costs attributable to that service. But the postal service allocates only 5.5 percent of its total costs to its business of shipping packages even though that line of business is 28 percent of its total revenue. '>)\n"
          ],
          "name": "stdout"
        }
      ]
    },
    {
      "cell_type": "markdown",
      "metadata": {
        "id": "JEfVKurc7uva"
      },
      "source": [
        "**Join text and title**"
      ]
    },
    {
      "cell_type": "code",
      "metadata": {
        "id": "d9epNz60lzli"
      },
      "source": [
        "def preprocess_join_sentence(s1, s2):\r\n",
        "    ret = tf.strings.reduce_join([s1, s2],separator=\" \", axis=-1)\r\n",
        "    return ret\r\n",
        "\r\n",
        "true_dataset = true_dataset.map(preprocess_join_sentence)\r\n",
        "false_dataset = false_dataset.map(preprocess_join_sentence)"
      ],
      "execution_count": 8,
      "outputs": []
    },
    {
      "cell_type": "code",
      "metadata": {
        "colab": {
          "base_uri": "https://localhost:8080/"
        },
        "id": "skppFInZbh5I",
        "outputId": "a81b6585-91c4-4360-fccb-53becf0b3353"
      },
      "source": [
        "for idx, row in enumerate(true_dataset):\r\n",
        "    print (row)\r\n",
        "    if idx > 3:\r\n",
        "        break"
      ],
      "execution_count": 9,
      "outputs": [
        {
          "output_type": "stream",
          "text": [
            "tf.Tensor(b'As U.S. budget fight looms, Republicans flip their fiscal script WASHINGTON (Reuters) - The head of a conservative Republican faction in the U.S. Congress, who voted this month for a huge expansion of the national debt to pay for tax cuts, called himself a \\xe2\\x80\\x9cfiscal conservative\\xe2\\x80\\x9d on Sunday and urged budget restraint in 2018. In keeping with a sharp pivot under way among Republicans, U.S. Representative Mark Meadows, speaking on CBS\\xe2\\x80\\x99 \\xe2\\x80\\x9cFace the Nation,\\xe2\\x80\\x9d drew a hard line on federal spending, which lawmakers are bracing to do battle over in January. When they return from the holidays on Wednesday, lawmakers will begin trying to pass a federal budget in a fight likely to be linked to other issues, such as immigration policy, even as the November congressional election campaigns approach in which Republicans will seek to keep control of Congress. President Donald Trump and his Republicans want a big budget increase in military spending, while Democrats also want proportional increases for non-defense \\xe2\\x80\\x9cdiscretionary\\xe2\\x80\\x9d spending on programs that support education, scientific research, infrastructure, public health and environmental protection. \\xe2\\x80\\x9cThe (Trump) administration has already been willing to say: \\xe2\\x80\\x98We\\xe2\\x80\\x99re going to increase non-defense discretionary spending ... by about 7 percent,\\xe2\\x80\\x99\\xe2\\x80\\x9d Meadows, chairman of the small but influential House Freedom Caucus, said on the program. \\xe2\\x80\\x9cNow, Democrats are saying that\\xe2\\x80\\x99s not enough, we need to give the government a pay raise of 10 to 11 percent. For a fiscal conservative, I don\\xe2\\x80\\x99t see where the rationale is. ... Eventually you run out of other people\\xe2\\x80\\x99s money,\\xe2\\x80\\x9d he said. Meadows was among Republicans who voted in late December for their party\\xe2\\x80\\x99s debt-financed tax overhaul, which is expected to balloon the federal budget deficit and add about $1.5 trillion over 10 years to the $20 trillion national debt. \\xe2\\x80\\x9cIt\\xe2\\x80\\x99s interesting to hear Mark talk about fiscal responsibility,\\xe2\\x80\\x9d Democratic U.S. Representative Joseph Crowley said on CBS. Crowley said the Republican tax bill would require the  United States to borrow $1.5 trillion, to be paid off by future generations, to finance tax cuts for corporations and the rich. \\xe2\\x80\\x9cThis is one of the least ... fiscally responsible bills we\\xe2\\x80\\x99ve ever seen passed in the history of the House of Representatives. I think we\\xe2\\x80\\x99re going to be paying for this for many, many years to come,\\xe2\\x80\\x9d Crowley said. Republicans insist the tax package, the biggest U.S. tax overhaul in more than 30 years,  will boost the economy and job growth. House Speaker Paul Ryan, who also supported the tax bill, recently went further than Meadows, making clear in a radio interview that welfare or \\xe2\\x80\\x9centitlement reform,\\xe2\\x80\\x9d as the party often calls it, would be a top Republican priority in 2018. In Republican parlance, \\xe2\\x80\\x9centitlement\\xe2\\x80\\x9d programs mean food stamps, housing assistance, Medicare and Medicaid health insurance for the elderly, poor and disabled, as well as other programs created by Washington to assist the needy. Democrats seized on Ryan\\xe2\\x80\\x99s early December remarks, saying they showed Republicans would try to pay for their tax overhaul by seeking spending cuts for social programs. But the goals of House Republicans may have to take a back seat to the Senate, where the votes of some Democrats will be needed to approve a budget and prevent a government shutdown. Democrats will use their leverage in the Senate, which Republicans narrowly control, to defend both discretionary non-defense programs and social spending, while tackling the issue of the \\xe2\\x80\\x9cDreamers,\\xe2\\x80\\x9d people brought illegally to the country as children. Trump in September put a March 2018 expiration date on the Deferred Action for Childhood Arrivals, or DACA, program, which protects the young immigrants from deportation and provides them with work permits. The president has said in recent Twitter messages he wants funding for his proposed Mexican border wall and other immigration law changes in exchange for agreeing to help the Dreamers. Representative Debbie Dingell told CBS she did not favor linking that issue to other policy objectives, such as wall funding. \\xe2\\x80\\x9cWe need to do DACA clean,\\xe2\\x80\\x9d she said.  On Wednesday, Trump aides will meet with congressional leaders to discuss those issues. That will be followed by a weekend of strategy sessions for Trump and Republican leaders on Jan. 6 and 7, the White House said. Trump was also scheduled to meet on Sunday with Florida Republican Governor Rick Scott, who wants more emergency aid. The House has passed an $81 billion aid package after hurricanes in Florida, Texas and Puerto Rico, and wildfires in California. The package far exceeded the $44 billion requested by the Trump administration. The Senate has not yet voted on the aid. ', shape=(), dtype=string)\n",
            "tf.Tensor(b'U.S. military to accept transgender recruits on Monday: Pentagon WASHINGTON (Reuters) - Transgender people will be allowed for the first time to enlist in the U.S. military starting on Monday as ordered by federal courts, the Pentagon said on Friday, after President Donald Trump\\xe2\\x80\\x99s administration decided not to appeal rulings that blocked his transgender ban. Two federal appeals courts, one in Washington and one in Virginia, last week rejected the administration\\xe2\\x80\\x99s request to put on hold orders by lower court judges requiring the military to begin accepting transgender recruits on Jan. 1. A Justice Department official said the administration will not challenge those rulings. \\xe2\\x80\\x9cThe Department of Defense has announced that it will be releasing an independent study of these issues in the coming weeks. So rather than litigate this interim appeal before that occurs, the administration has decided to wait for DOD\\xe2\\x80\\x99s study and will continue to defend the president\\xe2\\x80\\x99s lawful authority in District Court in the meantime,\\xe2\\x80\\x9d the official said, speaking on condition of anonymity. In September, the Pentagon said it had created a panel of senior officials to study how to implement a directive by Trump to prohibit transgender individuals from serving. The Defense Department has until Feb. 21 to submit a plan to Trump. Lawyers representing currently-serving transgender service members and aspiring recruits said they had expected the administration to appeal the rulings to the conservative-majority Supreme Court, but were hoping that would not happen. Pentagon spokeswoman Heather Babb said in a statement: \\xe2\\x80\\x9cAs mandated by court order, the Department of Defense is prepared to begin accessing transgender applicants for military service Jan. 1. All applicants must meet all accession standards.\\xe2\\x80\\x9d Jennifer Levi, a lawyer with gay, lesbian and transgender advocacy group GLAD, called the decision not to appeal \\xe2\\x80\\x9cgreat news.\\xe2\\x80\\x9d \\xe2\\x80\\x9cI\\xe2\\x80\\x99m hoping it means the government has come to see that there is no way to justify a ban and that it\\xe2\\x80\\x99s not good for the military or our country,\\xe2\\x80\\x9d Levi said. Both GLAD and the American Civil Liberties Union represent plaintiffs in the lawsuits filed against the administration. In a move that appealed to his hard-line conservative supporters, Trump announced in July that he would prohibit transgender people from serving in the military, reversing Democratic President Barack Obama\\xe2\\x80\\x99s policy of accepting them. Trump said on Twitter at the time that the military \\xe2\\x80\\x9ccannot be burdened with the tremendous medical costs and disruption that transgender in the military would entail.\\xe2\\x80\\x9d Four federal judges - in Baltimore, Washington, D.C., Seattle and Riverside, California - have issued rulings blocking Trump\\xe2\\x80\\x99s ban while legal challenges to the Republican president\\xe2\\x80\\x99s policy proceed. The judges said the ban would likely violate the right under the U.S. Constitution to equal protection under the law. The Pentagon on Dec. 8 issued guidelines to recruitment personnel in order to enlist transgender applicants by Jan. 1. The memo outlined medical requirements and specified how the applicants\\xe2\\x80\\x99 sex would be identified and even which undergarments they would wear. The Trump administration previously said in legal papers that the armed forces were not prepared to train thousands of personnel on the medical standards needed to process transgender applicants and might have to accept \\xe2\\x80\\x9csome individuals who are not medically fit for service.\\xe2\\x80\\x9d The Obama administration had set a deadline of July 1, 2017, to begin accepting transgender recruits. But Trump\\xe2\\x80\\x99s defense secretary, James Mattis, postponed that date to Jan. 1, 2018, which the president\\xe2\\x80\\x99s ban then put off indefinitely. Trump has taken other steps aimed at rolling back transgender rights. In October, his administration said a federal law banning gender-based workplace discrimination does not protect transgender employees, reversing another Obama-era position. In February, Trump rescinded guidance issued by the Obama administration saying that public schools should allow transgender students to use the restroom that corresponds to their gender identity. ', shape=(), dtype=string)\n",
            "tf.Tensor(b\"Senior U.S. Republican senator: 'Let Mr. Mueller do his job' WASHINGTON (Reuters) - The special counsel investigation of links between Russia and President Trump\\xe2\\x80\\x99s 2016 election campaign should continue without interference in 2018, despite calls from some Trump administration allies and Republican lawmakers to shut it down, a prominent Republican senator said on Sunday. Lindsey Graham, who serves on the Senate armed forces and judiciary committees, said Department of Justice Special Counsel Robert Mueller needs to carry on with his Russia investigation without political interference. \\xe2\\x80\\x9cThis investigation will go forward. It will be an investigation conducted without political influence,\\xe2\\x80\\x9d Graham said on CBS\\xe2\\x80\\x99s Face the Nation news program. \\xe2\\x80\\x9cAnd we all need to let Mr. Mueller do his job. I think he\\xe2\\x80\\x99s the right guy at the right time.\\xe2\\x80\\x9d  The question of how Russia may have interfered in the election, and how Trump\\xe2\\x80\\x99s campaign may have had links with or co-ordinated any such effort, has loomed over the White House since Trump took office in January. It shows no sign of receding as Trump prepares for his second year in power, despite intensified rhetoric from some Trump allies in recent weeks accusing Mueller\\xe2\\x80\\x99s team of bias against the Republican president. Trump himself seemed to undercut his supporters in an interview last week with the New York Times in which he said he expected Mueller was \\xe2\\x80\\x9cgoing to be fair.\\xe2\\x80\\x9d    Russia\\xe2\\x80\\x99s role in the election and the question of possible links to the Trump campaign are the focus of multiple inquiries in Washington. Three committees of the Senate and the House of Representatives are investigating, as well as Mueller, whose team in May took over an earlier probe launched by the U.S. Federal Bureau of Investigation (FBI). Several members of the Trump campaign and administration have been convicted or indicted in the investigation.  Trump and his allies deny any collusion with Russia during the campaign, and the Kremlin has denied meddling in the election. Graham said he still wants an examination of the FBI\\xe2\\x80\\x99s use of a dossier on links between Trump and Russia that was compiled by a former British spy, Christopher Steele, which prompted Trump allies and some Republicans to question Mueller\\xe2\\x80\\x99s inquiry.   On Saturday, the New York Times reported that it was not that dossier that triggered an early FBI probe, but a tip from former Trump campaign foreign policy adviser George Papadopoulos to an Australian diplomat that Russia had damaging information about former Trump rival Hillary Clinton.  \\xe2\\x80\\x9cI want somebody to look at the way the Department of Justice used this dossier. It bothers me greatly the way they used it, and I want somebody to look at it,\\xe2\\x80\\x9d Graham said. But he said the Russia investigation must continue. \\xe2\\x80\\x9cAs a matter of fact, it would hurt us if we ignored it,\\xe2\\x80\\x9d he said. \", shape=(), dtype=string)\n",
            "tf.Tensor(b'FBI Russia probe helped by Australian diplomat tip-off: NYT WASHINGTON (Reuters) - Trump campaign adviser George Papadopoulos told an Australian diplomat in May 2016 that Russia had political dirt on Democratic presidential candidate Hillary Clinton, the New York Times reported on Saturday. The conversation between Papadopoulos and the diplomat, Alexander Downer, in London was a driving factor behind the FBI\\xe2\\x80\\x99s decision to open a counter-intelligence investigation of Moscow\\xe2\\x80\\x99s contacts with the Trump campaign, the Times reported. Two months after the meeting, Australian officials passed the information that came from Papadopoulos to their American counterparts when leaked Democratic emails began appearing online, according to the newspaper, which cited four current and former U.S. and foreign officials. Besides the information from the Australians, the probe by the Federal Bureau of Investigation was also propelled by intelligence from other friendly governments, including the British and Dutch, the Times said. Papadopoulos, a Chicago-based international energy lawyer, pleaded guilty on Oct. 30 to lying to FBI agents about contacts with people who claimed to have ties to top Russian officials. It was the first criminal charge alleging links between the Trump campaign and Russia. The White House has played down the former aide\\xe2\\x80\\x99s campaign role, saying it was \\xe2\\x80\\x9cextremely limited\\xe2\\x80\\x9d and that any actions he took would have been on his own. The New York Times, however, reported that Papadopoulos helped set up a meeting between then-candidate Donald Trump and Egyptian President Abdel Fattah al-Sisi and edited the outline of Trump\\xe2\\x80\\x99s first major foreign policy speech in April 2016. The federal investigation, which is now being led by Special Counsel Robert Mueller, has hung over Trump\\xe2\\x80\\x99s White House since he took office almost a year ago. Some Trump allies have recently accused Mueller\\xe2\\x80\\x99s team of being biased against the Republican president. Lawyers for Papadopoulos did not immediately respond to requests by Reuters for comment. Mueller\\xe2\\x80\\x99s office declined to comment. Trump\\xe2\\x80\\x99s White House attorney, Ty Cobb, declined to comment on the New York Times report. \\xe2\\x80\\x9cOut of respect for the special counsel and his process, we are not commenting on matters such as this,\\xe2\\x80\\x9d he said in a statement. Mueller has charged four Trump associates, including Papadopoulos, in his investigation. Russia has denied interfering in the U.S. election and Trump has said there was no collusion between his campaign and Moscow. ', shape=(), dtype=string)\n",
            "tf.Tensor(b\"Trump wants Postal Service to charge 'much more' for Amazon shipments SEATTLE/WASHINGTON (Reuters) - President Donald Trump called on the U.S. Postal Service on Friday to charge \\xe2\\x80\\x9cmuch more\\xe2\\x80\\x9d to ship packages for Amazon (AMZN.O), picking another fight with an online retail giant he has criticized in the past.     \\xe2\\x80\\x9cWhy is the United States Post Office, which is losing many billions of dollars a year, while charging Amazon and others so little to deliver their packages, making Amazon richer and the Post Office dumber and poorer? Should be charging MUCH MORE!\\xe2\\x80\\x9d Trump wrote on Twitter.  The president\\xe2\\x80\\x99s tweet drew fresh attention to the fragile finances of the Postal Service at a time when tens of millions of parcels have just been shipped all over the country for the holiday season.  The U.S. Postal Service, which runs at a big loss, is an independent agency within the federal government and does not receive tax dollars for operating expenses, according to its website.  Package delivery has become an increasingly important part of its business as the Internet has led to a sharp decline in the amount of first-class letters. The president does not determine postal rates. They are set by the Postal Regulatory Commission, an independent government agency with commissioners selected by the president from both political parties. That panel raised prices on packages by almost 2 percent in November.  Amazon was founded by Jeff Bezos, who remains the chief executive officer of the retail company and is the richest person in the world, according to Bloomberg News. Bezos also owns The Washington Post, a newspaper Trump has repeatedly railed against in his criticisms of the news media. In tweets over the past year, Trump has said the \\xe2\\x80\\x9cAmazon Washington Post\\xe2\\x80\\x9d fabricated stories. He has said Amazon does not pay sales tax, which is not true, and so hurts other retailers, part of a pattern by the former businessman and reality television host of periodically turning his ire on big American companies since he took office in January. Daniel Ives, a research analyst at GBH Insights, said Trump\\xe2\\x80\\x99s comment could be taken as a warning to the retail giant. However, he said he was not concerned for Amazon. \\xe2\\x80\\x9cWe do not see any price hikes in the future. However, that is a risk that Amazon is clearly aware of and (it) is building out its distribution (system) aggressively,\\xe2\\x80\\x9d he said. Amazon has shown interest in the past in shifting into its own delivery service, including testing drones for deliveries. In 2015, the company spent $11.5 billion on shipping, 46 percent of its total operating expenses that year.  Amazon shares were down 0.86 percent to $1,175.90 by early afternoon. Overall, U.S. stock prices were down slightly on Friday.  Satish Jindel, president of ShipMatrix Inc, which analyzes shipping data, disputed the idea that the Postal Service charges less than United Parcel Service Inc (UPS.N) and FedEx Corp (FDX.N), the other biggest players in the parcel delivery business in the United States. Many customers get lower rates from UPS and FedEx than they would get from the post office for comparable services, he said. The Postal Service delivers about 62 percent of Amazon packages, for about 3.5 to 4 million a day during the current peak year-end holiday shipping season, Jindel said. The Seattle-based company and the post office have an agreement in which mail carriers take Amazon packages on the last leg of their journeys, from post offices to customers\\xe2\\x80\\x99 doorsteps. Amazon\\xe2\\x80\\x99s No. 2 carrier is UPS, at 21 percent, and FedEx is third, with 8 percent or so, according to Jindel. Trump\\xe2\\x80\\x99s comment tapped into a debate over whether Postal Service pricing has kept pace with the rise of e-commerce, which has flooded the mail with small packages.Private companies like UPS have long claimed the current system unfairly undercuts their business. Steve Gaut, a spokesman for UPS, noted that the company values its \\xe2\\x80\\x9cproductive relationship\\xe2\\x80\\x9d with the postal service, but that it has filed with the Postal Regulatory Commission its concerns about the postal service\\xe2\\x80\\x99s methods for covering costs. Representatives for Amazon, the White House, the U.S. Postal Service and FedEx declined comment or were not immediately available for comment on Trump\\xe2\\x80\\x99s tweet. According to its annual report, the Postal Service lost $2.74 billion this year, and its deficit has ballooned to $61.86 billion.  While the Postal Service\\xe2\\x80\\x99s revenue for first class mail, marketing mail and periodicals is flat or declining, revenue from package delivery is up 44 percent since 2014 to $19.5 billion in the fiscal year ended Sept. 30, 2017. But it also lost about $2 billion in revenue when a temporary surcharge expired in April 2016. According to a Government Accountability Office report in February, the service is facing growing personnel expenses, particularly $73.4 billion in unfunded pension and benefits liabilities. The Postal Service has not announced any plans to cut costs. By law, the Postal Service has to set prices for package delivery to cover the costs attributable to that service. But the postal service allocates only 5.5 percent of its total costs to its business of shipping packages even though that line of business is 28 percent of its total revenue. \", shape=(), dtype=string)\n"
          ],
          "name": "stdout"
        }
      ]
    },
    {
      "cell_type": "markdown",
      "metadata": {
        "id": "Jvw_0r_W2mh2"
      },
      "source": [
        "### Add labels to dataset"
      ]
    },
    {
      "cell_type": "code",
      "metadata": {
        "id": "i_lo08LlZczU"
      },
      "source": [
        "cat_true = tf.data.Dataset.from_tensor_slices(np.ones(len(list(true_dataset)), dtype=int))\r\n",
        "cat_false = tf.data.Dataset.from_tensor_slices(np.zeros(len(list(false_dataset)), dtype=int))"
      ],
      "execution_count": 10,
      "outputs": []
    },
    {
      "cell_type": "code",
      "metadata": {
        "id": "fj09KwCJZjdu"
      },
      "source": [
        "true_dataset = tf.data.Dataset.zip((true_dataset, cat_true))\r\n",
        "false_dataset = tf.data.Dataset.zip((false_dataset, cat_false))"
      ],
      "execution_count": 11,
      "outputs": []
    },
    {
      "cell_type": "code",
      "metadata": {
        "id": "ggohx0giaB8c"
      },
      "source": [
        "full_dataset = false_dataset.concatenate(true_dataset)"
      ],
      "execution_count": 21,
      "outputs": []
    },
    {
      "cell_type": "code",
      "metadata": {
        "colab": {
          "base_uri": "https://localhost:8080/"
        },
        "id": "DqCBNRny4Tne",
        "outputId": "2a860a8b-914d-4ef7-f4c3-7ecb10dfbbb7"
      },
      "source": [
        "for idx, row in enumerate(full_dataset):\r\n",
        "    print (row)\r\n",
        "    if idx > 3:\r\n",
        "        break"
      ],
      "execution_count": 13,
      "outputs": [
        {
          "output_type": "stream",
          "text": [
            "(<tf.Tensor: shape=(), dtype=string, numpy=b' Donald Trump Sends Out Embarrassing New Year\\xe2\\x80\\x99s Eve Message; This is Disturbing Donald Trump just couldn t wish all Americans a Happy New Year and leave it at that. Instead, he had to give a shout out to his enemies, haters and  the very dishonest fake news media.  The former reality show star had just one job to do and he couldn t do it. As our Country rapidly grows stronger and smarter, I want to wish all of my friends, supporters, enemies, haters, and even the very dishonest Fake News Media, a Happy and Healthy New Year,  President Angry Pants tweeted.  2018 will be a great year for America! As our Country rapidly grows stronger and smarter, I want to wish all of my friends, supporters, enemies, haters, and even the very dishonest Fake News Media, a Happy and Healthy New Year. 2018 will be a great year for America!  Donald J. Trump (@realDonaldTrump) December 31, 2017Trump s tweet went down about as welll as you d expect.What kind of president sends a New Year s greeting like this despicable, petty, infantile gibberish? Only Trump! His lack of decency won t even allow him to rise above the gutter long enough to wish the American citizens a happy new year!  Bishop Talbert Swan (@TalbertSwan) December 31, 2017no one likes you  Calvin (@calvinstowell) December 31, 2017Your impeachment would make 2018 a great year for America, but I ll also accept regaining control of Congress.  Miranda Yaver (@mirandayaver) December 31, 2017Do you hear yourself talk? When you have to include that many people that hate you you have to wonder? Why do the they all hate me?  Alan Sandoval (@AlanSandoval13) December 31, 2017Who uses the word Haters in a New Years wish??  Marlene (@marlene399) December 31, 2017You can t just say happy new year?  Koren pollitt (@Korencarpenter) December 31, 2017Here s Trump s New Year s Eve tweet from 2016.Happy New Year to all, including to my many enemies and those who have fought me and lost so badly they just don t know what to do. Love!  Donald J. Trump (@realDonaldTrump) December 31, 2016This is nothing new for Trump. He s been doing this for years.Trump has directed messages to his  enemies  and  haters  for New Year s, Easter, Thanksgiving, and the anniversary of 9/11. pic.twitter.com/4FPAe2KypA  Daniel Dale (@ddale8) December 31, 2017Trump s holiday tweets are clearly not presidential.How long did he work at Hallmark before becoming President?  Steven Goodine (@SGoodine) December 31, 2017He s always been like this . . . the only difference is that in the last few years, his filter has been breaking down.  Roy Schulze (@thbthttt) December 31, 2017Who, apart from a teenager uses the term haters?  Wendy (@WendyWhistles) December 31, 2017he s a fucking 5 year old  Who Knows (@rainyday80) December 31, 2017So, to all the people who voted for this a hole thinking he would change once he got into power, you were wrong! 70-year-old men don t change and now he s a year older.Photo by Andrew Burton/Getty Images.'>, <tf.Tensor: shape=(), dtype=int64, numpy=0>)\n",
            "(<tf.Tensor: shape=(), dtype=string, numpy=b' Drunk Bragging Trump Staffer Started Russian Collusion Investigation House Intelligence Committee Chairman Devin Nunes is going to have a bad day. He s been under the assumption, like many of us, that the Christopher Steele-dossier was what prompted the Russia investigation so he s been lashing out at the Department of Justice and the FBI in order to protect Trump. As it happens, the dossier is not what started the investigation, according to documents obtained by the New York Times.Former Trump campaign adviser George Papadopoulos was drunk in a wine bar when he revealed knowledge of Russian opposition research on Hillary Clinton.On top of that, Papadopoulos wasn t just a covfefe boy for Trump, as his administration has alleged. He had a much larger role, but none so damning as being a drunken fool in a wine bar. Coffee boys  don t help to arrange a New York meeting between Trump and President Abdel Fattah el-Sisi of Egypt two months before the election. It was known before that the former aide set up meetings with world leaders for Trump, but team Trump ran with him being merely a coffee boy.In May 2016, Papadopoulos revealed to Australian diplomat Alexander Downer that Russian officials were shopping around possible dirt on then-Democratic presidential nominee Hillary Clinton. Exactly how much Mr. Papadopoulos said that night at the Kensington Wine Rooms with the Australian, Alexander Downer, is unclear,  the report states.  But two months later, when leaked Democratic emails began appearing online, Australian officials passed the information about Mr. Papadopoulos to their American counterparts, according to four current and former American and foreign officials with direct knowledge of the Australians  role. Papadopoulos pleaded guilty to lying to the F.B.I. and is now a cooperating witness with Special Counsel Robert Mueller s team.This isn t a presidency. It s a badly scripted reality TV show.Photo by Win McNamee/Getty Images.'>, <tf.Tensor: shape=(), dtype=int64, numpy=0>)\n",
            "(<tf.Tensor: shape=(), dtype=string, numpy=b' Sheriff David Clarke Becomes An Internet Joke For Threatening To Poke People \\xe2\\x80\\x98In The Eye\\xe2\\x80\\x99 On Friday, it was revealed that former Milwaukee Sheriff David Clarke, who was being considered for Homeland Security Secretary in Donald Trump s administration, has an email scandal of his own.In January, there was a brief run-in on a plane between Clarke and fellow passenger Dan Black, who he later had detained by the police for no reason whatsoever, except that maybe his feelings were hurt. Clarke messaged the police to stop Black after he deplaned, and now, a search warrant has been executed by the FBI to see the exchanges.Clarke is calling it fake news even though copies of the search warrant are on the Internet. I am UNINTIMIDATED by lib media attempts to smear and discredit me with their FAKE NEWS reports designed to silence me,  the former sheriff tweeted.  I will continue to poke them in the eye with a sharp stick and bitch slap these scum bags til they get it. I have been attacked by better people than them #MAGA I am UNINTIMIDATED by lib media attempts to smear and discredit me with their FAKE NEWS reports designed to silence me. I will continue to poke them in the eye with a sharp stick and bitch slap these scum bags til they get it. I have been attacked by better people than them #MAGA pic.twitter.com/XtZW5PdU2b  David A. Clarke, Jr. (@SheriffClarke) December 30, 2017He didn t stop there.BREAKING NEWS! When LYING LIB MEDIA makes up FAKE NEWS to smear me, the ANTIDOTE is go right at them. Punch them in the nose & MAKE THEM TASTE THEIR OWN BLOOD. Nothing gets a bully like LYING LIB MEDIA S attention better than to give them a taste of their own blood #neverbackdown pic.twitter.com/T2NY2psHCR  David A. Clarke, Jr. (@SheriffClarke) December 30, 2017The internet called him out.This is your local newspaper and that search warrant isn t fake, and just because the chose not to file charges at the time doesn t mean they won t! Especially if you continue to lie. Months after decision not to charge Clarke, email search warrant filed https://t.co/zcbyc4Wp5b  KeithLeBlanc (@KeithLeBlanc63) December 30, 2017I just hope the rest of the Village People aren t implicated.  Kirk Ketchum (@kirkketchum) December 30, 2017Slaw, baked potatoes, or French fries? pic.twitter.com/fWfXsZupxy  ALT- Immigration   (@ALT_uscis) December 30, 2017pic.twitter.com/ymsOBLjfxU  Pendulum Swinger (@PendulumSwngr) December 30, 2017you called your police friends to stand up for you when someone made fun of your hat  Chris Jackson (@ChrisCJackson) December 30, 2017Is it me, with this masterful pshop of your hat, which I seem to never tire of. I think it s the steely resolve in your one visible eye pic.twitter.com/dWr5k8ZEZV  Chris Mohney (@chrismohney) December 30, 2017Are you indicating with your fingers how many people died in your jail? I think you re a few fingers short, dipshit  Ike Barinholtz (@ikebarinholtz) December 30, 2017ROFL. Internet tough guy with fake flair. pic.twitter.com/ulCFddhkdy  KellMeCrazy (@Kel_MoonFace) December 30, 2017You re so edgy, buddy.  Mrs. SMH (@MRSSMH2) December 30, 2017Is his break over at Applebees?  Aaron (@feltrrr2) December 30, 2017Are you trying to earn your  still relevant  badge?  CircusRebel (@CircusDrew) December 30, 2017make sure to hydrate, drink lots of water. It s rumored that prisoners can be denied water by prison officials.  Robert Klinc (@RobertKlinc1) December 30, 2017Terrill Thomas, the 38-year-old black man who died of thirst in Clarke s Milwaukee County Jail cell this April, was a victim of homicide. We just thought we should point that out. It can t be repeated enough.Photo by Spencer Platt/Getty Images.'>, <tf.Tensor: shape=(), dtype=int64, numpy=0>)\n",
            "(<tf.Tensor: shape=(), dtype=string, numpy=b' Trump Is So Obsessed He Even Has Obama\\xe2\\x80\\x99s Name Coded Into His Website (IMAGES) On Christmas day, Donald Trump announced that he would  be back to work  the following day, but he is golfing for the fourth day in a row. The former reality show star blasted former President Barack Obama for playing golf and now Trump is on track to outpace the number of golf games his predecessor played.Updated my tracker of Trump s appearances at Trump properties.71 rounds of golf including today s. At this pace, he ll pass Obama s first-term total by July 24 next year. https://t.co/Fg7VacxRtJ pic.twitter.com/5gEMcjQTbH  Philip Bump (@pbump) December 29, 2017 That makes what a Washington Post reporter discovered on Trump s website really weird, but everything about this administration is bizarre AF. The coding contained a reference to Obama and golf:  Unlike Obama, we are working to fix the problem   and not on the golf course.  However, the coding wasn t done correctly.The website of Donald Trump, who has spent several days in a row at the golf course, is coded to serve up the following message in the event of an internal server error: https://t.co/zrWpyMXRcz pic.twitter.com/wiQSQNNzw0  Christopher Ingraham (@_cingraham) December 28, 2017That snippet of code appears to be on all https://t.co/dkhw0AlHB4 pages, which the footer says is paid for by the RNC? pic.twitter.com/oaZDT126B3  Christopher Ingraham (@_cingraham) December 28, 2017It s also all over https://t.co/ayBlGmk65Z. As others have noted in this thread, this is weird code and it s not clear it would ever actually display, but who knows.  Christopher Ingraham (@_cingraham) December 28, 2017After the coding was called out, the reference to Obama was deleted.UPDATE: The golf error message has been removed from the Trump and GOP websites. They also fixed the javascript  =  vs  ==  problem. Still not clear when these messages would actually display, since the actual 404 (and presumably 500) page displays a different message pic.twitter.com/Z7dmyQ5smy  Christopher Ingraham (@_cingraham) December 29, 2017That suggests someone at either RNC or the Trump admin is sensitive enough to Trump s golf problem to make this issue go away quickly once people noticed. You have no idea how much I d love to see the email exchange that led us here.  Christopher Ingraham (@_cingraham) December 29, 2017 The code was f-cked up.The best part about this is that they are using the  =  (assignment) operator which means that bit of code will never get run. If you look a few lines up  errorCode  will always be  404          (@tw1trsux) December 28, 2017trump s coders can t code. Nobody is surprised.  Tim Peterson (@timrpeterson) December 28, 2017Donald Trump is obsessed with Obama that his name was even in the coding of his website while he played golf again.Photo by Joe Raedle/Getty Images.'>, <tf.Tensor: shape=(), dtype=int64, numpy=0>)\n",
            "(<tf.Tensor: shape=(), dtype=string, numpy=b' Pope Francis Just Called Out Donald Trump During His Christmas Speech Pope Francis used his annual Christmas Day message to rebuke Donald Trump without even mentioning his name. The Pope delivered his message just days after members of the United Nations condemned Trump s move to recognize Jerusalem as the capital of Israel. The Pontiff prayed on Monday for the  peaceful coexistence of two states within mutually agreed and internationally recognized borders. We see Jesus in the children of the Middle East who continue to suffer because of growing tensions between Israelis and Palestinians,  Francis said.  On this festive day, let us ask the Lord for peace for Jerusalem and for all the Holy Land. Let us pray that the will to resume dialogue may prevail between the parties and that a negotiated solution can finally be reached. The Pope went on to plead for acceptance of refugees who have been forced from their homes, and that is an issue Trump continues to fight against. Francis used Jesus for which there was  no place in the inn  as an analogy. Today, as the winds of war are blowing in our world and an outdated model of development continues to produce human, societal and environmental decline, Christmas invites us to focus on the sign of the Child and to recognize him in the faces of little children, especially those for whom, like Jesus,  there is no place in the inn,  he said. Jesus knows well the pain of not being welcomed and how hard it is not to have a place to lay one s head,  he added.  May our hearts not be closed as they were in the homes of Bethlehem. The Pope said that Mary and Joseph were immigrants who struggled to find a safe place to stay in Bethlehem. They had to leave their people, their home, and their land,  Francis said.  This was no comfortable or easy journey for a young couple about to have a child.   At heart, they were full of hope and expectation because of the child about to be born; yet their steps were weighed down by the uncertainties and dangers that attend those who have to leave their home behind. So many other footsteps are hidden in the footsteps of Joseph and Mary,  Francis said Sunday. We see the tracks of entire families forced to set out in our own day. We see the tracks of millions of persons who do not choose to go away, but driven from their land, leave behind their dear ones. Amen to that.Photo by Christopher Furlong/Getty Images.'>, <tf.Tensor: shape=(), dtype=int64, numpy=0>)\n"
          ],
          "name": "stdout"
        }
      ]
    },
    {
      "cell_type": "markdown",
      "metadata": {
        "id": "o2eM0q3174EE"
      },
      "source": [
        "**Formate sentences**"
      ]
    },
    {
      "cell_type": "code",
      "metadata": {
        "id": "Ttqepq_OhNe3",
        "colab": {
          "base_uri": "https://localhost:8080/"
        },
        "outputId": "b84366be-5197-4740-9a7d-655b74a53f6e"
      },
      "source": [
        "from nltk.corpus import stopwords\r\n",
        "nltk.download('stopwords')\r\n",
        "\r\n",
        "def rm_stopwords(text):\r\n",
        "  stop = set(stopwords.words('english'))\r\n",
        "  nltk.download('punkt')\r\n",
        "\r\n",
        "  stop = list(stop)\r\n",
        "  ret = tf.strings.strip(text)\r\n",
        "\r\n",
        "  for i in stop:\r\n",
        "    ret = tf.strings.regex_replace(ret, '\\\\b'+i+'\\\\b', '')\r\n",
        "  # Remove adding spaces\r\n",
        "\r\n",
        "  ret = tf.strings.regex_replace(ret, ' +', ' ')\r\n",
        "  return ret\r\n",
        "\r\n",
        "def rm_poncutation(text):\r\n",
        "  punctuation = list(string.punctuation)\r\n",
        "  punctuation.remove('(')\r\n",
        "  punctuation.remove(')')\r\n",
        "  punctuation.remove(',')\r\n",
        "  punctuation.remove('[')\r\n",
        "  punctuation.remove(']')\r\n",
        "  print(punctuation)\r\n",
        "\r\n",
        "  ret = tf.strings.strip(text)\r\n",
        "  for i in punctuation:\r\n",
        "    ret = tf.strings.regex_replace(ret, '\\\\b'+i+'\\\\b', '')\r\n",
        "  # Remove adding spaces\r\n",
        "  # ret = tf.strings.regex_replace(ret, ' +', ' ',)\r\n",
        "  return ret\r\n",
        "\r\n",
        "def preprocess_sentence(sentence, label):\r\n",
        "  ret = tf.strings.lower(sentence)\r\n",
        "  # ret = ret.decode(utf-8)\r\n",
        "  # ret = BeautifulSoup(ret, \"html.parser\").get_text()\r\n",
        "  ret = tf.strings.strip(ret)\r\n",
        "  ret = tf.strings.regex_replace(ret, r'[^\\x00-\\x7f]','')\r\n",
        "  ret = tf.strings.regex_replace(ret, '<[^<]+?>', '') # Removing HTML chars\r\n",
        "  ret = tf.strings.regex_replace(ret, '\\[[^]]*\\]', '') # Removing the square brackets\r\n",
        "  ret = tf.strings.regex_replace(ret, 'http\\S+', '') # Removing URL's\r\n",
        "  # ret =  tf.strings.regex_replace(ret, '[^\\w\\s]','') # Remove punctuation\r\n",
        "  ret = rm_stopwords(ret)\r\n",
        "  # ret = rm_poncutation(ret)\r\n",
        "  return ret, label\r\n",
        "\r\n",
        "full_dataset = full_dataset.map(preprocess_sentence)"
      ],
      "execution_count": 22,
      "outputs": [
        {
          "output_type": "stream",
          "text": [
            "[nltk_data] Downloading package stopwords to /root/nltk_data...\n",
            "[nltk_data]   Package stopwords is already up-to-date!\n",
            "[nltk_data] Downloading package punkt to /root/nltk_data...\n",
            "[nltk_data]   Package punkt is already up-to-date!\n"
          ],
          "name": "stdout"
        }
      ]
    },
    {
      "cell_type": "code",
      "metadata": {
        "colab": {
          "base_uri": "https://localhost:8080/"
        },
        "id": "d9Q44zZzkZ16",
        "outputId": "1f0991ca-cf08-458c-82ca-74602058bac3"
      },
      "source": [
        "for idx, row in enumerate(full_dataset):\r\n",
        "    print (row)\r\n",
        "    if idx > 3:\r\n",
        "        break"
      ],
      "execution_count": 23,
      "outputs": [
        {
          "output_type": "stream",
          "text": [
            "(<tf.Tensor: shape=(), dtype=string, numpy=b'donald trump sends embarrassing new years eve message; disturbing donald trump wish americans happy new year leave . instead, give shout enemies, haters dishonest fake news media. former reality show star one job . country rapidly grows stronger smarter, want wish friends, supporters, enemies, haters, even dishonest fake news media, happy healthy new year, president angry pants tweeted. 2018 great year america! country rapidly grows stronger smarter, want wish friends, supporters, enemies, haters, even dishonest fake news media, happy healthy new year. 2018 great year america! donald j. trump (@realdonaldtrump) december 31, 2017trump tweet went welll expect. kind president sends new year greeting like despicable, petty, infantile gibberish? trump! lack decency even allow rise gutter long enough wish american citizens happy new year! bishop talbert swan (@talbertswan) december 31, 2017no one likes calvin (@calvinstowell) december 31, 2017your impeachment would make 2018 great year america, also accept regaining control congress. miranda yaver (@mirandayaver) december 31, 2017do hear talk? include many people hate wonder? hate ? alan sandoval (@alansandoval13) december 31, 2017who uses word haters new years wish?? marlene (@marlene399) december 31, 2017you say happy new year? koren pollitt (@korencarpenter) december 31, 2017here trump new year eve tweet 2016.happy new year , including many enemies fought lost badly know . love! donald j. trump (@realdonaldtrump) december 31, 2016this nothing new trump. years.trump directed messages enemies haters new year , easter, thanksgiving, anniversary 9/11. pic.twitter.com/4fpae2kypa daniel dale (@ddale8) december 31, 2017trump holiday tweets clearly presidential. long work hallmark becoming president? steven goodine (@sgoodine) december 31, 2017he always like . . . difference last years, filter breaking . roy schulze (@thbthttt) december 31, 2017who, apart teenager uses term haters? wendy (@wendywhistles) december 31, 2017he fucking 5 year old knows (@rainyday80) december 31, 2017so, people voted hole thinking would change got power, wrong! 70-year-old men change year older.photo andrew burton/getty images.'>, <tf.Tensor: shape=(), dtype=int64, numpy=0>)\n",
            "(<tf.Tensor: shape=(), dtype=string, numpy=b'drunk bragging trump staffer started russian collusion investigation house intelligence committee chairman devin nunes going bad day. assumption, like many us, christopher steele-dossier prompted russia investigation lashing department justice fbi order protect trump. happens, dossier started investigation, according documents obtained new york times.former trump campaign adviser george papadopoulos drunk wine bar revealed knowledge russian opposition research hillary clinton. top , papadopoulos covfefe boy trump, administration alleged. much larger role, none damning drunken fool wine bar. coffee boys help arrange new york meeting trump president abdel fattah el-sisi egypt two months election. known former aide set meetings world leaders trump, team trump ran merely coffee boy. may 2016, papadopoulos revealed australian diplomat alexander downer russian officials shopping around possible dirt -democratic presidential nominee hillary clinton. exactly much mr. papadopoulos said night kensington wine rooms australian, alexander downer, unclear, report states. two months later, leaked democratic emails began appearing online, australian officials passed information mr. papadopoulos american counterparts, according four current former american foreign officials direct knowledge australians role. papadopoulos pleaded guilty lying f.b.. cooperating witness special counsel robert mueller team. presidency. badly scripted reality tv show.photo win mcnamee/getty images.'>, <tf.Tensor: shape=(), dtype=int64, numpy=0>)\n",
            "(<tf.Tensor: shape=(), dtype=string, numpy=b'sheriff david clarke becomes internet joke threatening poke people eye friday, revealed former milwaukee sheriff david clarke, considered homeland security secretary donald trump administration, email scandal . january, brief run- plane clarke fellow passenger dan black, later detained police reason whatsoever, except maybe feelings hurt. clarke messaged police stop black deplaned, , search warrant executed fbi see exchanges.clarke calling fake news even though copies search warrant internet. unintimidated lib media attempts smear discredit fake news reports designed silence , former sheriff tweeted. continue poke eye sharp stick bitch slap scum bags til get . attacked better people #maga unintimidated lib media attempts smear discredit fake news reports designed silence . continue poke eye sharp stick bitch slap scum bags til get . attacked better people #maga pic.twitter.com/xtzw5pdu2b david . clarke, jr. (@sheriffclarke) december 30, 2017he stop .breaking news! lying lib media makes fake news smear , antidote go right . punch nose & make taste blood. nothing gets bully like lying lib media attention better give taste blood #neverbackdown pic.twitter.com/t2ny2pshcr david . clarke, jr. (@sheriffclarke) december 30, 2017the internet called . local newspaper search warrant fake, chose file charges time mean ! especially continue lie. months decision charge clarke, email search warrant filed keithleblanc (@keithleblanc63) december 30, 2017i hope rest village people implicated. kirk ketchum (@kirkketchum) december 30, 2017slaw, baked potatoes, french fries? pic.twitter.com/fwfxszupxy alt- immigration (@alt_uscis) december 30, 2017pic.twitter.com/ymsobljfxu pendulum swinger (@pendulumswngr) december 30, 2017you called police friends stand someone made fun hat chris jackson (@chriscjackson) december 30, 2017is , masterful pshop hat, seem never tire . think steely resolve one visible eye pic.twitter.com/dwr5k8zezv chris mohney (@chrismohney) december 30, 2017are indicating fingers many people died jail? think fingers short, dipshit ike barinholtz (@ikebarinholtz) december 30, 2017rofl. internet tough guy fake flair. pic.twitter.com/ulcfddhkdy kellmecrazy (@kel_moonface) december 30, 2017you edgy, buddy. mrs. smh (@mrssmh2) december 30, 2017is break applebees? aaron (@feltrrr2) december 30, 2017are trying earn still relevant badge? circusrebel (@circusdrew) december 30, 2017make sure hydrate, drink lots water. rumored prisoners denied water prison officials. robert klinc (@robertklinc1) december 30, 2017terrill thomas, 38-year-old black man died thirst clarke milwaukee county jail cell april, victim homicide. thought point . repeated enough.photo spencer platt/getty images.'>, <tf.Tensor: shape=(), dtype=int64, numpy=0>)\n",
            "(<tf.Tensor: shape=(), dtype=string, numpy=b'trump obsessed even obamas name coded website (images) christmas day, donald trump announced would back work following day, golfing fourth day row. former reality show star blasted former president barack obama playing golf trump track outpace number golf games predecessor played.updated tracker trump appearances trump properties.71 rounds golf including today . pace, pass obama first-term total july 24 next year. pic.twitter.com/5gemcjqtbh philip bump (@pbump) december 29, 2017 makes washington post reporter discovered trump website really weird, everything administration bizarre af. coding contained reference obama golf: unlike obama, working fix problem golf course. however, coding done correctly. website donald trump, spent several days row golf course, coded serve following message event internal server error: pic.twitter.com/wiqsqnnzw0 christopher ingraham (@_cingraham) december 28, 2017that snippet code appears pages, footer says paid rnc? pic.twitter.com/oazdt126b3 christopher ingraham (@_cingraham) december 28, 2017it also others noted thread, weird code clear would ever actually display, knows. christopher ingraham (@_cingraham) december 28, 2017after coding called , reference obama deleted.update: golf error message removed trump gop websites. also fixed javascript = vs == problem. still clear messages would actually display, since actual 404 ( presumably 500) page displays different message pic.twitter.com/z7dmyq5smy christopher ingraham (@_cingraham) december 29, 2017that suggests someone either rnc trump admin sensitive enough trump golf problem make issue go away quickly people noticed. idea much love see email exchange led us . christopher ingraham (@_cingraham) december 29, 2017 code f-cked . best part using = (assignment) operator means bit code never get run. look lines errorcode always 404 (@tw1trsux) december 28, 2017trump coders code. nobody surprised. tim peterson (@timrpeterson) december 28, 2017donald trump obsessed obama name even coding website played golf .photo joe raedle/getty images.'>, <tf.Tensor: shape=(), dtype=int64, numpy=0>)\n",
            "(<tf.Tensor: shape=(), dtype=string, numpy=b'pope francis called donald trump christmas speech pope francis used annual christmas day message rebuke donald trump without even mentioning name. pope delivered message days members united nations condemned trump move recognize jerusalem capital israel. pontiff prayed monday peaceful coexistence two states within mutually agreed internationally recognized borders. see jesus children middle east continue suffer growing tensions israelis palestinians, francis said. festive day, let us ask lord peace jerusalem holy land. let us pray resume dialogue may prevail parties negotiated solution finally reached. pope went plead acceptance refugees forced homes, issue trump continues fight . francis used jesus place inn analogy. today, winds war blowing world outdated model development continues produce human, societal environmental decline, christmas invites us focus sign child recognize faces little children, especially , like jesus, place inn, said. jesus knows well pain welcomed hard place lay one head, added. may hearts closed homes bethlehem. pope said mary joseph immigrants struggled find safe place stay bethlehem. leave people, home, land, francis said. comfortable easy journey young couple child. heart, full hope expectation child born; yet steps weighed uncertainties dangers attend leave home behind. many footsteps hidden footsteps joseph mary, francis said sunday. see tracks entire families forced set day. see tracks millions persons choose go away, driven land, leave behind dear ones. amen .photo christopher furlong/getty images.'>, <tf.Tensor: shape=(), dtype=int64, numpy=0>)\n"
          ],
          "name": "stdout"
        }
      ]
    },
    {
      "cell_type": "code",
      "metadata": {
        "id": "S3hIj-EFXTgA",
        "colab": {
          "base_uri": "https://localhost:8080/"
        },
        "outputId": "a194a9d7-2ba6-40b0-ccda-e68408639f93"
      },
      "source": [
        "!pip install -q tensorflow-text\r\n"
      ],
      "execution_count": 24,
      "outputs": [
        {
          "output_type": "stream",
          "text": [
            "\u001b[K     |████████████████████████████████| 3.4MB 4.2MB/s \n",
            "\u001b[?25h"
          ],
          "name": "stdout"
        }
      ]
    },
    {
      "cell_type": "markdown",
      "metadata": {
        "id": "cmYi8yhdsLpM"
      },
      "source": [
        "### Glove"
      ]
    },
    {
      "cell_type": "markdown",
      "metadata": {
        "id": "23ZxWLI13hWK"
      },
      "source": [
        "**Count max occurences in dataset**"
      ]
    },
    {
      "cell_type": "code",
      "metadata": {
        "id": "Ph19RA42M4GN"
      },
      "source": [
        "from collections import Counter\r\n",
        "\r\n",
        "def freq_words(inputs, max_size=15000): # input dataset, returns list\r\n",
        "  count = Counter()\r\n",
        "\r\n",
        "  numpy_sentences = []\r\n",
        "  for sentences, labels in full_dataset.take(-1):  # take all elements in dataset\r\n",
        "      numpy_sentences.extend(tf.strings.split(sentences).numpy())\r\n",
        "      numpy_labels = labels.numpy()\r\n",
        "  list_words = numpy_sentences\r\n",
        "\r\n",
        "  for word in list_words:\r\n",
        "    # print(word)\r\n",
        "    count[word] += 1\r\n",
        "  result = [word for word, num in count.most_common(max_size)]\r\n",
        "  return result\r\n",
        "\r\n",
        "max_freq_words = freq_words(full_dataset)"
      ],
      "execution_count": 25,
      "outputs": []
    },
    {
      "cell_type": "code",
      "metadata": {
        "id": "BcUBohUDVMU0"
      },
      "source": [
        "max_freq_words = [w.decode(\"utf-8\") for w in max_freq_words]"
      ],
      "execution_count": 26,
      "outputs": []
    },
    {
      "cell_type": "code",
      "metadata": {
        "colab": {
          "base_uri": "https://localhost:8080/"
        },
        "id": "z11NdJkKZxyw",
        "outputId": "aa34897d-c188-4987-a7ef-769b6091986d"
      },
      "source": [
        "max_freq_words[:10]"
      ],
      "execution_count": 27,
      "outputs": [
        {
          "output_type": "execute_result",
          "data": {
            "text/plain": [
              "['trump',\n",
              " 'said',\n",
              " ',',\n",
              " '.',\n",
              " 'would',\n",
              " 'u..',\n",
              " 'president',\n",
              " 'people',\n",
              " 'one',\n",
              " 'new']"
            ]
          },
          "metadata": {
            "tags": []
          },
          "execution_count": 27
        }
      ]
    },
    {
      "cell_type": "markdown",
      "metadata": {
        "id": "G9LYaDiML_fj"
      },
      "source": [
        "**Tests**"
      ]
    },
    {
      "cell_type": "code",
      "metadata": {
        "id": "L7DysO8KL-1N",
        "colab": {
          "base_uri": "https://localhost:8080/"
        },
        "outputId": "d868a41c-8c32-423f-a22f-58d3e5b6fba3"
      },
      "source": [
        "from tensorflow.keras.layers.experimental.preprocessing import TextVectorization\r\n",
        "# Build vocabulary and relevent vector\r\n",
        "words = []\r\n",
        "# Adding 2 empty vector of dimension 100 which will be used in padding and unknown token(word)\r\n",
        "# According to previous knowledge i have idea that it contains 400,000 words\r\n",
        "# Added extra 2 rows because when we will use inside TextVectorization add blank i.e. '' and ['UNK'] inside vocabulary\r\n",
        "\r\n",
        "counter = 0\r\n",
        "\r\n",
        "vectors = np.zeros((10000, 100))\r\n",
        "\r\n",
        "with open(f\"../glove-twitter/glove.twitter.27B.100d.txt\") as f:\r\n",
        "    lines = f.readlines()\r\n",
        "\r\n",
        "    for idx, line in enumerate(lines):\r\n",
        "      if counter >= 10000-2:\r\n",
        "        break\r\n",
        "\r\n",
        "      split_line = line.split()\r\n",
        "      \r\n",
        "      if split_line[0] in max_freq_words:\r\n",
        "        words.append(split_line[0])\r\n",
        "        vectors[counter+2] = split_line[1:]\r\n",
        "        counter+=1\r\n",
        "\r\n",
        "print(f\"Number of words are {len(words)}\")\r\n",
        "print(f\"Shape of vector is {vectors.shape}\")"
      ],
      "execution_count": 28,
      "outputs": [
        {
          "output_type": "stream",
          "text": [
            "Number of words are 9998\n",
            "Shape of vector is (10000, 100)\n"
          ],
          "name": "stdout"
        }
      ]
    },
    {
      "cell_type": "code",
      "metadata": {
        "colab": {
          "base_uri": "https://localhost:8080/"
        },
        "id": "owibnaA1NFuG",
        "outputId": "f616171a-8af1-44ca-8a88-d897d9afbcd6"
      },
      "source": [
        "vectors"
      ],
      "execution_count": 29,
      "outputs": [
        {
          "output_type": "execute_result",
          "data": {
            "text/plain": [
              "array([[ 0.0000e+00,  0.0000e+00,  0.0000e+00, ...,  0.0000e+00,\n",
              "         0.0000e+00,  0.0000e+00],\n",
              "       [ 0.0000e+00,  0.0000e+00,  0.0000e+00, ...,  0.0000e+00,\n",
              "         0.0000e+00,  0.0000e+00],\n",
              "       [ 1.8205e-01, -4.8483e-02,  2.3966e-01, ..., -3.3580e-01,\n",
              "         1.8884e-01, -4.0786e-01],\n",
              "       ...,\n",
              "       [ 3.4225e-01,  1.0624e+00,  5.2395e-01, ...,  9.9312e-02,\n",
              "         4.9109e-01,  1.2910e-01],\n",
              "       [ 2.8270e-01,  3.5967e-01,  1.2944e+00, ...,  1.1320e+00,\n",
              "        -4.6097e-01,  2.9973e-01],\n",
              "       [ 3.2018e-01, -8.1367e-01,  6.8017e-01, ...,  1.1296e-03,\n",
              "        -5.3972e-01, -2.0115e-01]])"
            ]
          },
          "metadata": {
            "tags": []
          },
          "execution_count": 29
        }
      ]
    },
    {
      "cell_type": "code",
      "metadata": {
        "colab": {
          "base_uri": "https://localhost:8080/"
        },
        "id": "p7lBhvDzV4i-",
        "outputId": "0b372d7a-e840-4424-b4de-d19f4c5c8bd9"
      },
      "source": [
        "words[:10]"
      ],
      "execution_count": 30,
      "outputs": [
        {
          "output_type": "execute_result",
          "data": {
            "text/plain": [
              "['.', ':', 'rt', ',', '!', '\"', '?', '(', ')', 'de']"
            ]
          },
          "metadata": {
            "tags": []
          },
          "execution_count": 30
        }
      ]
    },
    {
      "cell_type": "code",
      "metadata": {
        "colab": {
          "base_uri": "https://localhost:8080/"
        },
        "id": "k4XMjb7SsKCt",
        "outputId": "48a8d1fd-9e81-414c-fb99-d1ddf86bd1b5"
      },
      "source": [
        "from tensorflow.keras.layers.experimental.preprocessing import TextVectorization\r\n",
        "# TextVectorization hyper parameter\r\n",
        "max_vocab = 10000\r\n",
        "max_len = 300\r\n",
        "vectorize_layer_glove = TextVectorization(max_tokens=max_vocab,\r\n",
        "                                                    standardize=\"lower_and_strip_punctuation\",\r\n",
        "                                                    split=\"whitespace\",\r\n",
        "                                                    output_mode=\"int\",\r\n",
        "                                                    output_sequence_length=max_len,\r\n",
        "                                                    vocabulary=words)\r\n",
        "\r\n",
        "\r\n",
        "# Vocabulary set into layer\r\n",
        "vectorize_layer_glove.set_vocabulary(words)\r\n",
        "print(f\"Top 10 words {vectorize_layer_glove.get_vocabulary()[:10]}\")\r\n",
        "print(f\"Some words {vectorize_layer_glove.get_vocabulary()[-1010:-1000]} \\n\")"
      ],
      "execution_count": 31,
      "outputs": [
        {
          "output_type": "stream",
          "text": [
            "Top 10 words ['', '[UNK]', '.', ':', 'rt', ',', '!', '\"', '?', '(']\n",
            "Some words ['defect', 'emphasize', 'southeastern', 'conveniently', 'feinstein', 'imposed', 'attackers', 'abandoning', 'distinguished', 'angered'] \n",
            "\n"
          ],
          "name": "stdout"
        }
      ]
    },
    {
      "cell_type": "code",
      "metadata": {
        "id": "w77OJDFFsUDN"
      },
      "source": [
        "def int_vectorize_text(text, label):\r\n",
        "  text = tf.expand_dims(text, -1)\r\n",
        "  return vectorize_layer_glove(text), label\r\n",
        "\r\n",
        "train_data_tokenized = full_dataset.map(int_vectorize_text)"
      ],
      "execution_count": 32,
      "outputs": []
    },
    {
      "cell_type": "code",
      "metadata": {
        "colab": {
          "base_uri": "https://localhost:8080/"
        },
        "id": "sikwvvb3BJka",
        "outputId": "59c13e13-8a94-4074-eb6f-fad44c5d198d"
      },
      "source": [
        "model_glove = tf.keras.models.Sequential()\r\n",
        "model_glove.add(tf.keras.layers.Input(shape=(1,), dtype=tf.string))\r\n",
        "model_glove.add(vectorize_layer_glove)\r\n",
        "model_glove.predict([\"expect terror busts fbi steps use isis stings 21st century wire says real terrorist threat thing create one received wisdom today federal bureau investigationaccording latest public relations release fbi counter terrorism department agency plans significantly increased use stings order catch wouldbe terrorists words planning rampup policy using entrapment order organize recruit train even supply materials budding neophyte terrorists usthis come surprise anyone following incidents spite grand announcement reality fbi last 25 years stings stings stings fbi direct james comey spend lot time front congress year logic astounding insane reason type antiquated thinking still dominated us federal law enforcement institutions going wait person mobilize time line said michael b steinbach leads fbi national security branch added fbi could afford sit wait knowing individual actively plotting since 911 fbi agents relied practice using informants pose jihadi radicals small arms dealers order excite recruit fringe members society constructive pursuits bombmaking often bring scene mock terrorists crime agents leap behind shadows make highprofile arrest unwitting dupesuspectin 2016 recruitment required assemble theatrical statemanaged scenarios done online via friends social media fbi cyber agents look individuals appear supporting isis alqaeda successful online grooming transitions real world meeting luck blossoms contrived terror plot courtesy fbi confidential informant 1993 wtc bomber ramzi yousefperhaps bestever example fbi sting resulting real terrorist attack event mindless us mainstream media still wrongly attribute real terrorists 1993 world trade center bombingin allfbihatched plot agency used least one known informant man named emad salem former egyptian army officer salem later demonstrated secret recording made fbi originally asked supply conspirators harmless powder instead actual explosive construct bomb reasons still officially unknown fbi chose allow real bomb deployed wtc day supposed sting author tom secker global research explains simplest terms relatively ragtag group inspired cia asset blind sheikh trained triple agent ali mohamed managed pull bombing result bomb detonating underneath wtc putting thousands innocent americans riskstill ever single major us television newspaper outlet still moronically refers 1993 wtc event terrorist attack american soil team america fabricated terroraccording fbi records nearly 70 reported isislinked terrorist prosecutions convictions cookedup via use informants stingsentrapment undercover operations seen last resort used two every three prosecutions involving people suspected supporting islamic state sharp rise span two years according new york times analysis charges brought nearly 90 americans believed linked group back may fbi arrested man james medina allegedly planning attack miamiarea aventura turnberry jewish center synagogue explosive device turns synagogue never actually real danger bomb fake sold fbi undercover agent man stopped man stopped fbi agents posing fellow terrorists set sting operation fbi chatup lines muslim mosque go know alqaeda 2015 one classic exhibit frameup 20 year old christopher lee cornell snared one bogus fake terror plot ever yet us mainstream media stop gushing event isisinspired attack attack actually took placeaccording david steele 20year marine corps intelligence officer formercia case officer us terror plots cooked us authorities terrorists false flag terrorists created security services united states every single terrorist incident false flag informant pushed fbi fact citizens taking restraining orders fbi informants trying incite terrorism become lunatic asylum similar wouldbe highprofile terror icons patsies include paris shooter amedi coulibaby see incredible informant case ottawa shooter zehafbibeau see patsy story boston bomber tamerlan tsarnaev see informant story underwear bomber umar farouk abdulmutallab see patsy story buford rogers read informant story jerad miller read informant story naji mansour read entrapment story quazi mohammad nafis read patsy story mohamed osman mohamud read entrapment story even infamous okc bomber timothy mcveigh read sheepdipped patsy story herein reality covert culture washington dc promote genuine terrorism home internationally much single nation state outside saudi arabia israel major people realize thisread zany fbi plots 21st century wire daily shooter filessupport work become 21wiretv member\"])"
      ],
      "execution_count": 33,
      "outputs": [
        {
          "output_type": "execute_result",
          "data": {
            "text/plain": [
              "array([[ 948, 2673,    1, 3925, 2365,  306, 6432,    1,    1, 3474, 4062,\n",
              "         343,  117, 4277, 3703,  165, 1614,   32, 2074, 2519,   52, 2844,\n",
              "        6130,    1, 1327, 1038, 4738, 1242, 3925, 3983, 5577, 3783, 2939,\n",
              "        1002, 7296, 4833,  306,    1,  762,  729,    1, 5122,  447, 1861,\n",
              "           1, 3184,  745,    1,  762, 5926, 6216,  542,   88, 3433, 6322,\n",
              "           1,    1, 5122,    1,   89, 1388,  264,  395, 7484, 6531, 1200,\n",
              "        3149, 1273, 3925,  106,    1,  268,    1,    1,    1, 3925, 1704,\n",
              "         741, 7563,  803,  279,   47,  751, 2891,  143, 3048, 8440, 1963,\n",
              "         407,  654,    1,  357,   82, 6947,  108, 2844, 1271, 6750, 7790,\n",
              "          78,  159,  169, 9982,   47,  510,  162,  826,   26,    1, 2400,\n",
              "        3925, 1043, 1758, 4988, 1447, 3925,  113, 2859,  703,  159, 1044,\n",
              "        3189, 7626, 6687,  324,    1, 3925, 5249, 9779,  994,  745,    1,\n",
              "        2645, 9988, 9209,  720, 1442, 6477,  762,    1, 6216, 4920, 1898,\n",
              "        2071, 7848,    1,    1, 1264,  420, 1590, 5218, 5122, 2222, 5249,\n",
              "           1,  633,    1,   62,    1, 3617,    1,    1,    1, 5070, 3834,\n",
              "           1,    1,    1, 6240,  154,  408,   71,  152,  540,  571, 3925,\n",
              "        3576, 5249,   99, 5059, 3152, 2501, 6432,    1, 1873,  408,    1,\n",
              "           1,  117,  148, 1098,  516,    1,    1, 2673, 3130, 4265, 3925,\n",
              "        7710,    1,    1,    1, 5858,    1,    1,    1, 2610, 3925, 5310,\n",
              "        8492,  117, 4277, 1126,  996,    1,  108, 3959,  571,   82, 8168,\n",
              "           1,  117, 5122,    1,  148, 1810, 1346,    1,    1, 3130, 2939,\n",
              "         413,  512,   32, 1459,    1,   91, 1569,    1,    1, 2253, 5318,\n",
              "        1595, 3298,    1,  498, 9157,  847, 2913,  173, 3925, 4710,  713,\n",
              "        3433,    1,    1,    1,  685, 1746, 6526, 8463, 1695, 1166,   82,\n",
              "        1404, 3080, 3925, 1818, 2135,  117, 1695, 8161,    1,   42, 1075,\n",
              "        5310, 2875,  979,    1, 1778, 2137, 3505,    1, 3123, 7363,    1,\n",
              "         768, 2583, 3584, 6493, 2040, 7076, 5186, 2457, 3269, 1154, 6113,\n",
              "        3319, 1173, 4922]])"
            ]
          },
          "metadata": {
            "tags": []
          },
          "execution_count": 33
        }
      ]
    },
    {
      "cell_type": "code",
      "metadata": {
        "id": "YxjpD0rI0XPj"
      },
      "source": [
        "for idx, row in enumerate(train_data_tokenized):\r\n",
        "    print (row)\r\n",
        "    if idx > 0:\r\n",
        "        break"
      ],
      "execution_count": null,
      "outputs": []
    },
    {
      "cell_type": "code",
      "metadata": {
        "colab": {
          "base_uri": "https://localhost:8080/"
        },
        "id": "jDFp_AiVng2R",
        "outputId": "54c1a666-b853-478c-e704-6e2b8694e0e8"
      },
      "source": [
        "len(vectors[0])"
      ],
      "execution_count": 35,
      "outputs": [
        {
          "output_type": "execute_result",
          "data": {
            "text/plain": [
              "100"
            ]
          },
          "metadata": {
            "tags": []
          },
          "execution_count": 35
        }
      ]
    },
    {
      "cell_type": "markdown",
      "metadata": {
        "id": "qN27WAForl3F"
      },
      "source": [
        "### Prepare data to train"
      ]
    },
    {
      "cell_type": "code",
      "metadata": {
        "id": "dZXYqxoVro8W"
      },
      "source": [
        "# Model params\r\n",
        "batch_size = 256\r\n",
        "epochs = 10\r\n",
        "embed_size = 100\r\n",
        "maxlen = 300\r\n",
        "max_features = 10000"
      ],
      "execution_count": 36,
      "outputs": []
    },
    {
      "cell_type": "markdown",
      "metadata": {
        "id": "GvWBijprsD2Q"
      },
      "source": [
        "**Model**"
      ]
    },
    {
      "cell_type": "code",
      "metadata": {
        "id": "8O1u2Wj8sDHn"
      },
      "source": [
        "#Defining Neural Network\r\n",
        "model = Sequential()\r\n",
        "#Non-trainable embeddidng layer\r\n",
        "model.add(Embedding(max_features, output_dim=embed_size, weights=[vectors], input_length=maxlen, trainable=False))\r\n",
        "#LSTM \r\n",
        "model.add(LSTM(units=128 , return_sequences = True))\r\n",
        "model.add(LSTM(units=64))\r\n",
        "model.add(Dense(units = 32 , activation = 'relu'))\r\n",
        "model.add(Dense(1, activation='sigmoid'))\r\n",
        "model.compile(optimizer=keras.optimizers.Adam(lr = 0.01), loss='binary_crossentropy', metrics=['accuracy'])\r\n",
        "\r\n",
        "learning_rate_reduction = ReduceLROnPlateau(monitor='val_accuracy', patience = 2, verbose=1,factor=0.5, min_lr=0.00001)\r\n"
      ],
      "execution_count": 37,
      "outputs": []
    },
    {
      "cell_type": "code",
      "metadata": {
        "colab": {
          "base_uri": "https://localhost:8080/"
        },
        "id": "vGfBpf3uubNM",
        "outputId": "80976fb6-007c-4022-a222-3864171fd3cf"
      },
      "source": [
        "model.summary()"
      ],
      "execution_count": 39,
      "outputs": [
        {
          "output_type": "stream",
          "text": [
            "Model: \"sequential_1\"\n",
            "_________________________________________________________________\n",
            "Layer (type)                 Output Shape              Param #   \n",
            "=================================================================\n",
            "embedding (Embedding)        (None, 300, 100)          1000000   \n",
            "_________________________________________________________________\n",
            "lstm (LSTM)                  (None, 300, 128)          117248    \n",
            "_________________________________________________________________\n",
            "lstm_1 (LSTM)                (None, 64)                49408     \n",
            "_________________________________________________________________\n",
            "dense (Dense)                (None, 32)                2080      \n",
            "_________________________________________________________________\n",
            "dense_1 (Dense)              (None, 1)                 33        \n",
            "=================================================================\n",
            "Total params: 1,168,769\n",
            "Trainable params: 168,769\n",
            "Non-trainable params: 1,000,000\n",
            "_________________________________________________________________\n"
          ],
          "name": "stdout"
        }
      ]
    },
    {
      "cell_type": "markdown",
      "metadata": {
        "id": "hxEGtL-85NSD"
      },
      "source": [
        "### TODO : add validation dataset and shuffle data"
      ]
    },
    {
      "cell_type": "code",
      "metadata": {
        "id": "7Vo1h89w1sJK"
      },
      "source": [
        "full_dataset = train_data_tokenized.map(lambda x_text, x_label: (x_text, tf.expand_dims(x_label, -1)))"
      ],
      "execution_count": 41,
      "outputs": []
    },
    {
      "cell_type": "code",
      "metadata": {
        "colab": {
          "base_uri": "https://localhost:8080/"
        },
        "id": "3nS4VRMxqoDJ",
        "outputId": "815fd27c-bea3-4899-edf5-902a9966af1b"
      },
      "source": [
        "len(list(full_dataset))"
      ],
      "execution_count": 40,
      "outputs": [
        {
          "output_type": "execute_result",
          "data": {
            "text/plain": [
              "44898"
            ]
          },
          "metadata": {
            "tags": []
          },
          "execution_count": 40
        }
      ]
    },
    {
      "cell_type": "code",
      "metadata": {
        "id": "BFUf2MV8obfi"
      },
      "source": [
        "DATASET_SIZE = len(list(full_dataset))\r\n",
        "\r\n",
        "train_size = int(0.8 * DATASET_SIZE)\r\n",
        "test_size = int(0.2 * DATASET_SIZE)\r\n",
        "\r\n",
        "full_dataset = full_dataset.shuffle(buffer_size=DATASET_SIZE, seed=42)\r\n",
        "train_dataset = full_dataset.take(train_size)\r\n",
        "test_dataset = full_dataset.skip(train_size)"
      ],
      "execution_count": 46,
      "outputs": []
    },
    {
      "cell_type": "code",
      "metadata": {
        "id": "9cJWKSxH1ypE"
      },
      "source": [
        "for idx, row in enumerate(train_dataset):\r\n",
        "    print (row)\r\n",
        "    if idx > 3:\r\n",
        "        break"
      ],
      "execution_count": null,
      "outputs": []
    },
    {
      "cell_type": "code",
      "metadata": {
        "colab": {
          "base_uri": "https://localhost:8080/"
        },
        "id": "KnmpSJ4ifSRp",
        "outputId": "7b16eb67-8617-4ec0-ab6e-c4ac1ff3f510"
      },
      "source": [
        "from tensorflow.python.client import device_lib\r\n",
        "print(device_lib.list_local_devices())"
      ],
      "execution_count": 44,
      "outputs": [
        {
          "output_type": "stream",
          "text": [
            "[name: \"/device:CPU:0\"\n",
            "device_type: \"CPU\"\n",
            "memory_limit: 268435456\n",
            "locality {\n",
            "}\n",
            "incarnation: 17524386010747095968\n",
            ", name: \"/device:GPU:0\"\n",
            "device_type: \"GPU\"\n",
            "memory_limit: 11153436864\n",
            "locality {\n",
            "  bus_id: 1\n",
            "  links {\n",
            "  }\n",
            "}\n",
            "incarnation: 17655670020707594348\n",
            "physical_device_desc: \"device: 0, name: Tesla K80, pci bus id: 0000:00:04.0, compute capability: 3.7\"\n",
            "]\n"
          ],
          "name": "stdout"
        }
      ]
    },
    {
      "cell_type": "code",
      "metadata": {
        "id": "T4bB5IeJ_KoJ"
      },
      "source": [
        "# Train for 2 epochs\r\n",
        "model.fit(train_dataset, validation_data=test_dataset, epochs=2, steps_per_epoch=25000)"
      ],
      "execution_count": null,
      "outputs": []
    }
  ]
}